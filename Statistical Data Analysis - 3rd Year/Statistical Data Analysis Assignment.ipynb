{
 "cells": [
  {
   "cell_type": "markdown",
   "metadata": {},
   "source": [
    "# SDA Assignment 2\n",
    "\n",
    "Ross Herencia  \n"
   ]
  },
  {
   "cell_type": "code",
   "execution_count": 1,
   "metadata": {},
   "outputs": [],
   "source": [
    "import numpy as np"
   ]
  },
  {
   "cell_type": "markdown",
   "metadata": {},
   "source": [
    "### 2.1  \n",
    "The three datasets are"
   ]
  },
  {
   "cell_type": "code",
   "execution_count": 2,
   "metadata": {},
   "outputs": [],
   "source": [
    "x = [-0.3, 0.2, -0.1, 0.3, 0.2]\n",
    "y = [0.7, 0.6, 0.6, 0.2, 0.0]\n",
    "z = [-0.8, -0.5, 0.6, 0.3, 0.3]"
   ]
  },
  {
   "cell_type": "markdown",
   "metadata": {},
   "source": [
    "The mean of each dataset may be calculated using \n",
    "$$ \\bar{x} = \\frac{1}{N} \\sum_{i=1}^{N} x_i $$"
   ]
  },
  {
   "cell_type": "code",
   "execution_count": 3,
   "metadata": {},
   "outputs": [],
   "source": [
    "def mean(data):\n",
    "    total = 0\n",
    "    for i in data:\n",
    "        total += i\n",
    "    mean = total / len(data)\n",
    "    return mean"
   ]
  },
  {
   "cell_type": "code",
   "execution_count": 4,
   "metadata": {},
   "outputs": [
    {
     "name": "stdout",
     "output_type": "stream",
     "text": [
      "mean of x: 0.06000000000000001\n",
      "Mean of y: 0.42000000000000004\n",
      "Mean of z: -0.020000000000000018\n"
     ]
    }
   ],
   "source": [
    "mean_x = mean(x)\n",
    "mean_y = mean(y)\n",
    "mean_z = mean(z)\n",
    "print('mean of x:', mean_x)\n",
    "print('Mean of y:', mean_y)\n",
    "print('Mean of z:', mean_z)"
   ]
  },
  {
   "cell_type": "markdown",
   "metadata": {},
   "source": [
    "$$ \\therefore~\\bar{x} = 0.06,\\\\\n",
    "\\bar{y} = 0.042,\\\\\n",
    "\\bar{z} = -0.02,\\\\ $$\n",
    "to 2 d.p. I will keep the outputs to more decimal places so that they can be carried forward in the following calculations."
   ]
  },
  {
   "cell_type": "markdown",
   "metadata": {},
   "source": [
    "The Bessel corrected standard deviation is given by  \n",
    "\n",
    "$$ \\sigma_x = \\sqrt{\\frac{1}{n-1} \\sum_{i=1}^{N} (x_i - \\bar{x})^2} $$"
   ]
  },
  {
   "cell_type": "code",
   "execution_count": 5,
   "metadata": {},
   "outputs": [],
   "source": [
    "def std(data, mean):\n",
    "    total = 0\n",
    "    for i in data:\n",
    "        total += (i - mean)**2\n",
    "    std = (total / (len(data) - 1))**0.5\n",
    "    return std"
   ]
  },
  {
   "cell_type": "code",
   "execution_count": 6,
   "metadata": {
    "scrolled": true
   },
   "outputs": [
    {
     "name": "stdout",
     "output_type": "stream",
     "text": [
      "Standard deviation of x: 0.25099800796022265\n",
      "Standard deviation of y: 0.30331501776206204\n",
      "Standard deviation of z: 0.5974947698515862\n"
     ]
    }
   ],
   "source": [
    "std_x = std(x, mean_x)\n",
    "std_y = std(y, mean_y)\n",
    "std_z = std(z, mean_z)\n",
    "print('Standard deviation of x:', std_x)\n",
    "print('Standard deviation of y:', std_y)\n",
    "print('Standard deviation of z:', std_z)"
   ]
  },
  {
   "cell_type": "markdown",
   "metadata": {},
   "source": [
    "$$ \\therefore~ \\sigma_x = 0.25,\\\\\n",
    "\\sigma_y = 0.30,\\\\\n",
    "\\sigma_z = 0.60. $$"
   ]
  },
  {
   "cell_type": "markdown",
   "metadata": {},
   "source": [
    "The elements of the covariance matrix are given by  \n",
    "\n",
    "$$ V = \\sum_{i,j} \\sigma_{ij}. $$  \n",
    "\n",
    "The Bessel corrected covariances are calculated using\n",
    "\n",
    "$$ \\sigma_{xy} = \\frac{1}{N-1} \\sum_{i=1}^{N} (x_i - \\bar{x})(y_i - \\bar{y}), $$  \n",
    "\n",
    "and clearly $\\sigma_{xy} = \\sigma_{yx}$."
   ]
  },
  {
   "cell_type": "code",
   "execution_count": 7,
   "metadata": {},
   "outputs": [],
   "source": [
    "def covariance(data_1, data_2, mean_1, mean_2):\n",
    "    total = 0\n",
    "    for i in range(len(data_1)):\n",
    "        total += (data_1[i] - mean_1)*(data_2[i] - mean_2)\n",
    "    cov = total / (len(data_1) - 1)\n",
    "    return cov"
   ]
  },
  {
   "cell_type": "code",
   "execution_count": 8,
   "metadata": {},
   "outputs": [
    {
     "name": "stdout",
     "output_type": "stream",
     "text": [
      "Covariance of x,y: -0.054\n",
      "Covariance of x,z: 0.05899999999999999\n",
      "Covariance of y,z: -0.09949999999999999\n"
     ]
    }
   ],
   "source": [
    "cov_xy = covariance(x, y, mean_x, mean_y)\n",
    "cov_xz = covariance(x, z, mean_x, mean_z)\n",
    "cov_yz = covariance(y, z, mean_y, mean_z)\n",
    "print('Covariance of x,y:', cov_xy)\n",
    "print('Covariance of x,z:', cov_xz)\n",
    "print('Covariance of y,z:', cov_yz)"
   ]
  },
  {
   "cell_type": "markdown",
   "metadata": {},
   "source": [
    "Therefore,  \n",
    "\n",
    "$$\\sigma_{x}^2 = 0.063,~\\sigma_{y}^2 = 0.09,~\\sigma_{z}^2 = 0.36,\\\\  \n",
    "\\sigma_{xy} = -0.05,~\\sigma_{xz} = 0.06,~\\sigma_{yz} = -0.10 $$"
   ]
  },
  {
   "cell_type": "markdown",
   "metadata": {},
   "source": [
    "$$ \\implies V = \\begin{pmatrix}\n",
    "\\sigma_x^2 & \\sigma_{xy} & \\sigma_{xz}\\\\\n",
    "\\sigma_{yx} & \\sigma_y^2 & \\sigma_{yz}\\\\\n",
    "\\sigma_{zx} & \\sigma_{zy} &\\sigma_z^2 \\end{pmatrix} = \\begin{pmatrix}\n",
    "0.063 & -0.05 & 0.06\\\\\n",
    "-0.05 & 0.09 & -0.10\\\\\n",
    "0.06 & -0.10 & 0.36\n",
    "\\end{pmatrix}_. $$"
   ]
  },
  {
   "cell_type": "markdown",
   "metadata": {},
   "source": [
    "The correlation matrix elements are \n",
    "\n",
    "$$ \\rho_{ij} = \\frac{\\sigma_{ij}}{\\sigma_i \\sigma_j} $$\n",
    "so if $i = j, \\rho_{ii} = 1$."
   ]
  },
  {
   "cell_type": "code",
   "execution_count": 9,
   "metadata": {},
   "outputs": [
    {
     "name": "stdout",
     "output_type": "stream",
     "text": [
      "rho_xy =  -0.7092993656151906\n",
      "rho_xz =  0.3934120236078694\n",
      "rho_yz =  -0.5490287146712387\n"
     ]
    }
   ],
   "source": [
    "rho_xy = cov_xy / (std_x * std_y)\n",
    "rho_xz = cov_xz / (std_x * std_z)\n",
    "rho_yz = cov_yz / (std_y * std_z)\n",
    "print('rho_xy = ', rho_xy)\n",
    "print('rho_xz = ', rho_xz)\n",
    "print('rho_yz = ', rho_yz)"
   ]
  },
  {
   "cell_type": "markdown",
   "metadata": {},
   "source": [
    "$$ \\therefore ~ \\rho_{xy} = -0.71,\\\\\n",
    "\\rho_{xz} = 0.39,\\\\\n",
    "\\rho_{yz} = -0.55. $$"
   ]
  },
  {
   "cell_type": "markdown",
   "metadata": {},
   "source": [
    "So the correlation martix is \n",
    "\n",
    "$$ \\rho = \\begin{pmatrix}\n",
    "1 & -0.71 & 0.39\\\\\n",
    "-0.71 & 1 & -0.55\\\\\n",
    "0.39 & -0.55 & 1\n",
    "\\end{pmatrix} $$"
   ]
  },
  {
   "cell_type": "markdown",
   "metadata": {},
   "source": [
    "Spearman's ranked correlation is \n",
    "\n",
    "$$ \\rho = 1 - \\frac{6}{N(N^2 - 1)}\\sum_{i=1}^N d_i^2, $$\n",
    "\n",
    "where $d_i^2$ is the difference in rank between $x_i$ and $y_i$."
   ]
  },
  {
   "cell_type": "code",
   "execution_count": 10,
   "metadata": {},
   "outputs": [],
   "source": [
    "x_rank = [(1, -0.3), (3.5, 0.2), (2, -0.1), (5, 0.3), (3.5, 0.2)] # (rank, value)\n",
    "y_rank = [(5, 0.7), (3.5, 0.6), (3.5, 0.6), (2, 0.2), (1, 0.0)]"
   ]
  },
  {
   "cell_type": "markdown",
   "metadata": {},
   "source": [
    "Where there is a tie in the rank (e.g. y = 0.6 occurs twice), the average of current rank (r) and the next (r + 1)... is taken for all tied values."
   ]
  },
  {
   "cell_type": "code",
   "execution_count": 11,
   "metadata": {},
   "outputs": [],
   "source": [
    "def spearman(x_rank, y_rank):\n",
    "    total = 0\n",
    "    for i,j in zip(x_rank, y_rank):\n",
    "        total += (i[0] - j[0])**2\n",
    "    s_correlation = 1 - (6 * total) / (len(x_rank) * (len(x_rank)**2 - 1))\n",
    "    return s_correlation"
   ]
  },
  {
   "cell_type": "code",
   "execution_count": 12,
   "metadata": {},
   "outputs": [
    {
     "data": {
      "text/plain": [
       "-0.675"
      ]
     },
     "execution_count": 12,
     "metadata": {},
     "output_type": "execute_result"
    }
   ],
   "source": [
    "spearman(x_rank, y_rank)"
   ]
  },
  {
   "cell_type": "markdown",
   "metadata": {},
   "source": [
    "So, the Spearman ranked correlation for x and y is $ \\rho = -0.68 . $"
   ]
  },
  {
   "cell_type": "markdown",
   "metadata": {},
   "source": [
    "### 2.2  \n",
    "\n",
    "Given the PDF mean $\\mu$  \n",
    "$$ \\widehat{V{(x)}} = \\frac{1}{N} \\sum_i^N (x_i - \\mu)^2,$$\n",
    "where $N = |\\Omega|$.  \n",
    "In the limit that $ N \\rightarrow \\infty$ then $\\widehat{V{(x)}} \\rightarrow V(x)$ because $\\mu$ is the mean of the PDF therefore, the estimate is consistent.  \n",
    "The Bessel correction is no longer required beacuse the estimator is not biased."
   ]
  },
  {
   "cell_type": "markdown",
   "metadata": {},
   "source": [
    "### 2.3  \n",
    "$$ A_1 = 1.2 \\pm 0.3,\\\\\n",
    "B_1 = -0.8 \\pm 0.2,\\\\\n",
    "A_2 = 0.9 \\pm 0.1,\\\\\n",
    "B_2 = -0.5 \\pm 0.2,\\\\\n",
    "\\rho_{AB}^{(1)} = 0.2,\\\\\n",
    "\\rho_{AB}^{(2)} = 0.1.\n",
    "$$\n",
    "The weighted average of A and B is given by the formulae\n",
    "\n",
    "$$ \\bar{x} = \\left[\\sum_{j=1}^{2} \\begin{pmatrix}\n",
    "\\sigma_A^2 & \\rho_{AB} \\sigma_{A} \\sigma_{B}\\\\\n",
    "\\rho_{AB} \\sigma_{A} \\sigma_{B} & \\sigma_B^2 \\end{pmatrix}_j^{-1}\\right]  \\bullet\n",
    "\\left[\\sum_{j=1}^{2} \\begin{pmatrix} \n",
    "\\sigma_A^2 & \\rho_{AB} \\sigma_{A} \\sigma_{B}\\\\\n",
    "\\rho_{AB} \\sigma_{A} \\sigma_{B} & \\sigma_B^2 \\end{pmatrix}_j^{-1} \n",
    "\\begin{pmatrix} \n",
    "A\\\\\n",
    "B \\end{pmatrix}_j \\right] $$  \n",
    "\n",
    "and \n",
    "\n",
    "$$ V = \\left[\\sum_{j=1}^{2} \\begin{pmatrix}\n",
    "\\sigma_A^2 & \\rho_{AB} \\sigma_{A} \\sigma_{B}\\\\\n",
    "\\rho_{AB} \\sigma_{A} \\sigma_{B} & \\sigma_B^2 \\end{pmatrix}_j^{-1}\\right], $$\n",
    "\n",
    "since $\\rho_{AB} = \\sigma_{AB}~/~\\sigma_A \\sigma_B$."
   ]
  },
  {
   "cell_type": "code",
   "execution_count": 13,
   "metadata": {
    "scrolled": true
   },
   "outputs": [
    {
     "name": "stdout",
     "output_type": "stream",
     "text": [
      "Measurement 1 matrix of covariances:\n",
      " [[0.09  0.012]\n",
      " [0.012 0.04 ]]\n",
      "Measurement 2 matrix of covariances:\n",
      " [[0.01  0.002]\n",
      " [0.002 0.04 ]]\n"
     ]
    }
   ],
   "source": [
    "m_1 = np.matrix('0.09, 0.012; 0.012, 0.04') # Measurement 1 matrix\n",
    "print('Measurement 1 matrix of covariances:\\n', m_1)\n",
    "\n",
    "m_2 = np.matrix('0.01, 0.002; 0.002, 0.04')\n",
    "print('Measurement 2 matrix of covariances:\\n', m_2)"
   ]
  },
  {
   "cell_type": "code",
   "execution_count": 14,
   "metadata": {
    "scrolled": true
   },
   "outputs": [
    {
     "name": "stdout",
     "output_type": "stream",
     "text": [
      "Measurement 1 values:\n",
      " [[ 1.2]\n",
      " [-0.8]]\n",
      "Measurement 2 values:\n",
      " [[ 0.9]\n",
      " [-0.5]]\n"
     ]
    }
   ],
   "source": [
    "v_1 = np.matrix([[1.2], [-0.8]]) # vector of measurements\n",
    "print('Measurement 1 values:\\n', v_1)\n",
    "v_2 = np.matrix([[0.9], [-0.5]])\n",
    "print('Measurement 2 values:\\n', v_2)"
   ]
  },
  {
   "cell_type": "markdown",
   "metadata": {},
   "source": [
    "We need to invert these matrices which can be done using \n",
    "\n",
    "$$ \\begin{pmatrix}\n",
    "\\sigma_A^2 & \\rho_{AB} \\sigma_{A} \\sigma_{B}\\\\\n",
    "\\rho_{AB} \\sigma_{A} \\sigma_{B} & \\sigma_B^2 \\end{pmatrix}^{-1} = \\frac{1}{\\sigma_A^2 \\sigma_B^2 - (\\rho_{AB} \\sigma_{A} \\sigma_{B})^2} \\begin{pmatrix}\n",
    "\\sigma_B^2 & -\\sigma_{AB}\\\\\n",
    "-\\sigma_{AB} & \\sigma_A^2 \\end{pmatrix}$$"
   ]
  },
  {
   "cell_type": "code",
   "execution_count": 15,
   "metadata": {},
   "outputs": [],
   "source": [
    "def inverse(m):\n",
    "    coeff = (m[0,0] * m[1,1] - m[1,0] * m[0,1])**(-1)\n",
    "    inverted = np.matrix([[m[1,1], -m[1,0]], [-m[0,1], m[0,0]]])\n",
    "    return coeff*inverted"
   ]
  },
  {
   "cell_type": "code",
   "execution_count": 16,
   "metadata": {},
   "outputs": [
    {
     "name": "stdout",
     "output_type": "stream",
     "text": [
      "m_1 inverted:\n",
      " [[11.57407407 -3.47222222]\n",
      " [-3.47222222 26.04166667]]\n",
      "m_2 inverted:\n",
      " [[101.01010101  -5.05050505]\n",
      " [ -5.05050505  25.25252525]]\n"
     ]
    }
   ],
   "source": [
    "m_1_inv = inverse(m_1)\n",
    "print('m_1 inverted:\\n', m_1_inv)\n",
    "m_2_inv = inverse(m_2)\n",
    "print('m_2 inverted:\\n', m_2_inv)"
   ]
  },
  {
   "cell_type": "code",
   "execution_count": 17,
   "metadata": {},
   "outputs": [
    {
     "data": {
      "text/plain": [
       "matrix([[112.58417508,  -8.52272727],\n",
       "        [ -8.52272727,  51.29419192]])"
      ]
     },
     "execution_count": 17,
     "metadata": {},
     "output_type": "execute_result"
    }
   ],
   "source": [
    "sum_12_inv = m_1_inv + m_2_inv\n",
    "sum_12_inv"
   ]
  },
  {
   "cell_type": "code",
   "execution_count": 18,
   "metadata": {},
   "outputs": [
    {
     "data": {
      "text/plain": [
       "matrix([[0.00899539, 0.00149462],\n",
       "        [0.00149462, 0.01974372]])"
      ]
     },
     "execution_count": 18,
     "metadata": {},
     "output_type": "execute_result"
    }
   ],
   "source": [
    "term_1 = inverse(sum_12_inv)\n",
    "term_1  # This is V!"
   ]
  },
  {
   "cell_type": "code",
   "execution_count": 19,
   "metadata": {},
   "outputs": [
    {
     "data": {
      "text/plain": [
       "matrix([[110.1010101 ],\n",
       "        [-42.17171717]])"
      ]
     },
     "execution_count": 19,
     "metadata": {},
     "output_type": "execute_result"
    }
   ],
   "source": [
    "term_2 = m_1_inv * v_1 + m_2_inv * v_2\n",
    "term_2"
   ]
  },
  {
   "cell_type": "code",
   "execution_count": 20,
   "metadata": {
    "scrolled": false
   },
   "outputs": [
    {
     "data": {
      "text/plain": [
       "matrix([[ 0.92737058],\n",
       "        [-0.66806766]])"
      ]
     },
     "execution_count": 20,
     "metadata": {},
     "output_type": "execute_result"
    }
   ],
   "source": [
    "x_bar = term_1 * term_2\n",
    "x_bar"
   ]
  },
  {
   "cell_type": "markdown",
   "metadata": {},
   "source": [
    "$$ \\therefore V = \\begin{pmatrix}\n",
    "0.0090 & 0.0015\\\\\n",
    "0.0015 & 0.020 \\end{pmatrix} $$  \n",
    "and  \n",
    "$$ \\bar{x} = \\begin{pmatrix}\n",
    "0.927\\\\\n",
    "-0.668 \\end{pmatrix}$$"
   ]
  },
  {
   "cell_type": "markdown",
   "metadata": {},
   "source": [
    "$$ \\implies \\bar{A} = 0.93 \\pm 0.09,\\\\\n",
    "\\bar{B} = -0.67 \\pm 0.14 $$\n",
    "and $$\\sigma_{AB} = 0.0015.$$"
   ]
  },
  {
   "cell_type": "markdown",
   "metadata": {},
   "source": [
    "Now, setting $\\rho_{AB} = 0$ for measurements 1 and 2 we get"
   ]
  },
  {
   "cell_type": "code",
   "execution_count": 21,
   "metadata": {},
   "outputs": [
    {
     "name": "stdout",
     "output_type": "stream",
     "text": [
      "Measurement 1 matrix of covariances:\n",
      " [[0.09 0.  ]\n",
      " [0.   0.04]]\n",
      "Measurement 2 matrix of covariances:\n",
      " [[0.01 0.  ]\n",
      " [0.   0.04]]\n"
     ]
    }
   ],
   "source": [
    "m_10 = np.matrix('0.09, 0; 0, 0.04') # Measurement 1 matrix\n",
    "print('Measurement 1 matrix of covariances:\\n', m_10)\n",
    "\n",
    "m_20 = np.matrix('0.01, 0; 0, 0.04')\n",
    "print('Measurement 2 matrix of covariances:\\n', m_20)"
   ]
  },
  {
   "cell_type": "code",
   "execution_count": 22,
   "metadata": {
    "scrolled": false
   },
   "outputs": [
    {
     "name": "stdout",
     "output_type": "stream",
     "text": [
      "m_10 inverted:\n",
      " [[11.11111111 -0.        ]\n",
      " [-0.         25.        ]]\n",
      "m_20 inverted:\n",
      " [[100.  -0.]\n",
      " [ -0.  25.]]\n"
     ]
    }
   ],
   "source": [
    "m_10_inv = inverse(m_10)\n",
    "print('m_10 inverted:\\n', m_10_inv)\n",
    "m_20_inv = inverse(m_20)\n",
    "print('m_20 inverted:\\n', m_20_inv)"
   ]
  },
  {
   "cell_type": "code",
   "execution_count": 23,
   "metadata": {},
   "outputs": [
    {
     "name": "stdout",
     "output_type": "stream",
     "text": [
      "term_10:\n",
      " [[0.009 0.   ]\n",
      " [0.    0.02 ]]\n",
      "term_20:\n",
      " [[103.33333333]\n",
      " [-32.5       ]]\n",
      "x_bar:\n",
      " [[ 0.93]\n",
      " [-0.65]]\n"
     ]
    }
   ],
   "source": [
    "sum_120_inv = m_10_inv + m_20_inv\n",
    "\n",
    "term_10 = inverse(sum_120_inv)\n",
    "print('term_10:\\n', term_10)\n",
    "\n",
    "term_20 = m_10_inv * v_1 + m_20_inv * v_2\n",
    "print('term_20:\\n', term_20)\n",
    "\n",
    "x_bar0 = term_10 * term_20\n",
    "print('x_bar:\\n', x_bar0)"
   ]
  },
  {
   "cell_type": "markdown",
   "metadata": {},
   "source": [
    "$$ \\therefore V = \\begin{pmatrix}\n",
    "0.009 & 0\\\\\n",
    "0 & 0.020 \\end{pmatrix} $$  \n",
    "and  \n",
    "$$ \\bar{x} = \\begin{pmatrix}\n",
    "0.93\\\\\n",
    "-0.65 \\end{pmatrix}$$"
   ]
  },
  {
   "cell_type": "markdown",
   "metadata": {},
   "source": [
    "$$ \\implies \\bar{A} = 0.93 \\pm 0.09,\\\\\n",
    "\\bar{B} = -0.65 \\pm 0.14$$\n",
    "and $$\\sigma_{AB} = 0.$$"
   ]
  },
  {
   "cell_type": "markdown",
   "metadata": {},
   "source": [
    "Separate averages for A and B are given by\n",
    "\n",
    "$$ \\bar{x} = \\frac{x_1/\\sigma_1^2 + x_2/\\sigma_2^2}{1/\\sigma_1^2 + 1/\\sigma_2^2}$$\n",
    "and \n",
    "$$ \\sigma_x = (1/\\sigma_1^2 + 1/\\sigma_2^2)^{-1/2}$$"
   ]
  },
  {
   "cell_type": "code",
   "execution_count": 24,
   "metadata": {},
   "outputs": [],
   "source": [
    "def average(x1, x2, var1, var2):\n",
    "    numerator = ((x1 / var1) + (x2 / var2))\n",
    "    uncertainty = ( var1**-1 + var2**-1)\n",
    "    avg = numerator / uncertainty\n",
    "    output = (avg, uncertainty**-0.5)\n",
    "    return output"
   ]
  },
  {
   "cell_type": "code",
   "execution_count": 25,
   "metadata": {},
   "outputs": [
    {
     "data": {
      "text/plain": [
       "(0.9299999999999999, 0.09486832980505137)"
      ]
     },
     "execution_count": 25,
     "metadata": {},
     "output_type": "execute_result"
    }
   ],
   "source": [
    "average(v_1[0,0], v_2[0,0], m_1[0,0], m_2[0,0])"
   ]
  },
  {
   "cell_type": "code",
   "execution_count": 26,
   "metadata": {},
   "outputs": [
    {
     "data": {
      "text/plain": [
       "(-0.65, 0.1414213562373095)"
      ]
     },
     "execution_count": 26,
     "metadata": {},
     "output_type": "execute_result"
    }
   ],
   "source": [
    "average(v_1[1,0], v_2[1,0], m_1[1,1], m_2[1,1])"
   ]
  },
  {
   "cell_type": "markdown",
   "metadata": {},
   "source": [
    "$$ \\implies \\bar{A} = 0.93 \\pm 0.09\\\\\n",
    "\\bar{B} = -0.65 \\pm 0.14$$"
   ]
  },
  {
   "cell_type": "markdown",
   "metadata": {},
   "source": [
    "Therefore, these results agree with setting $\\rho_{AB} = 0$. This makes sense  because that constraint implies that A and B are not correlated, so they are independent, which is exactly the case that you would use separate averages."
   ]
  }
 ],
 "metadata": {
  "kernelspec": {
   "display_name": "Python 3",
   "language": "python",
   "name": "python3"
  },
  "language_info": {
   "codemirror_mode": {
    "name": "ipython",
    "version": 3
   },
   "file_extension": ".py",
   "mimetype": "text/x-python",
   "name": "python",
   "nbconvert_exporter": "python",
   "pygments_lexer": "ipython3",
   "version": "3.7.6"
  }
 },
 "nbformat": 4,
 "nbformat_minor": 4
}
