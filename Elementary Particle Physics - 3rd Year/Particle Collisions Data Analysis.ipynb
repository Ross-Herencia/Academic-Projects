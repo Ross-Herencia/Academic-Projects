{
 "cells": [
  {
   "cell_type": "markdown",
   "metadata": {},
   "source": [
    "## EPP Coursework 1, Part B: The Data Project  \n",
    "Ross Herencia  "
   ]
  },
  {
   "cell_type": "markdown",
   "metadata": {},
   "source": [
    "## Introduction\n",
    "\n",
    "The results of 5000 proton-proton ($pp$) collisions, producing and electron postitron pair ($e^-e^+$), have been recoreded by a detector. It is thought that the $e^-e^+$ pair are the decay products of the same mother particle $A$. This report investigates the nature and dynamics of the mother particle.  \n",
    "\n",
    "## Method\n",
    "\n",
    "In the following analysis, data containing information of the energy and momenta of the 5000 $e^-e^+$ pairs will be used to reconstruct the mass $m_A$ and momentum $P_A$ of the mother particle. The pandas library will be used to handle the data."
   ]
  },
  {
   "cell_type": "code",
   "execution_count": 1,
   "metadata": {},
   "outputs": [],
   "source": [
    "import pandas as pd\n",
    "import numpy as np\n",
    "import matplotlib.pyplot as plt"
   ]
  },
  {
   "cell_type": "code",
   "execution_count": 2,
   "metadata": {
    "scrolled": false
   },
   "outputs": [
    {
     "data": {
      "text/html": [
       "<div>\n",
       "<style scoped>\n",
       "    .dataframe tbody tr th:only-of-type {\n",
       "        vertical-align: middle;\n",
       "    }\n",
       "\n",
       "    .dataframe tbody tr th {\n",
       "        vertical-align: top;\n",
       "    }\n",
       "\n",
       "    .dataframe thead th {\n",
       "        text-align: right;\n",
       "    }\n",
       "</style>\n",
       "<table border=\"1\" class=\"dataframe\">\n",
       "  <thead>\n",
       "    <tr style=\"text-align: right;\">\n",
       "      <th></th>\n",
       "      <th>ele_E</th>\n",
       "      <th>ele_Px</th>\n",
       "      <th>ele_Py</th>\n",
       "      <th>ele_Pz</th>\n",
       "      <th>pos_E</th>\n",
       "      <th>pos_Px</th>\n",
       "      <th>pos_Py</th>\n",
       "      <th>pos_Pz</th>\n",
       "    </tr>\n",
       "    <tr>\n",
       "      <th>Event</th>\n",
       "      <th></th>\n",
       "      <th></th>\n",
       "      <th></th>\n",
       "      <th></th>\n",
       "      <th></th>\n",
       "      <th></th>\n",
       "      <th></th>\n",
       "      <th></th>\n",
       "    </tr>\n",
       "  </thead>\n",
       "  <tbody>\n",
       "    <tr>\n",
       "      <th>0</th>\n",
       "      <td>91.9627</td>\n",
       "      <td>-21.25940</td>\n",
       "      <td>-22.43340</td>\n",
       "      <td>86.61360</td>\n",
       "      <td>36.5255</td>\n",
       "      <td>8.271760</td>\n",
       "      <td>34.09940</td>\n",
       "      <td>10.14530</td>\n",
       "    </tr>\n",
       "    <tr>\n",
       "      <th>1</th>\n",
       "      <td>267.2110</td>\n",
       "      <td>12.88650</td>\n",
       "      <td>60.50000</td>\n",
       "      <td>259.95300</td>\n",
       "      <td>122.3730</td>\n",
       "      <td>0.865726</td>\n",
       "      <td>-30.62440</td>\n",
       "      <td>118.47600</td>\n",
       "    </tr>\n",
       "    <tr>\n",
       "      <th>2</th>\n",
       "      <td>79.8513</td>\n",
       "      <td>6.82322</td>\n",
       "      <td>49.40190</td>\n",
       "      <td>62.36290</td>\n",
       "      <td>38.8658</td>\n",
       "      <td>3.582750</td>\n",
       "      <td>-35.40890</td>\n",
       "      <td>15.61820</td>\n",
       "    </tr>\n",
       "    <tr>\n",
       "      <th>3</th>\n",
       "      <td>77.8501</td>\n",
       "      <td>-23.16490</td>\n",
       "      <td>16.15560</td>\n",
       "      <td>72.54670</td>\n",
       "      <td>30.2295</td>\n",
       "      <td>26.264700</td>\n",
       "      <td>1.33405</td>\n",
       "      <td>-14.90660</td>\n",
       "    </tr>\n",
       "    <tr>\n",
       "      <th>4</th>\n",
       "      <td>28.4838</td>\n",
       "      <td>27.16970</td>\n",
       "      <td>-4.02682</td>\n",
       "      <td>-7.54432</td>\n",
       "      <td>143.2160</td>\n",
       "      <td>-26.110400</td>\n",
       "      <td>6.29678</td>\n",
       "      <td>-140.67500</td>\n",
       "    </tr>\n",
       "    <tr>\n",
       "      <th>...</th>\n",
       "      <td>...</td>\n",
       "      <td>...</td>\n",
       "      <td>...</td>\n",
       "      <td>...</td>\n",
       "      <td>...</td>\n",
       "      <td>...</td>\n",
       "      <td>...</td>\n",
       "      <td>...</td>\n",
       "    </tr>\n",
       "    <tr>\n",
       "      <th>4995</th>\n",
       "      <td>97.4048</td>\n",
       "      <td>3.59432</td>\n",
       "      <td>-63.09500</td>\n",
       "      <td>74.12020</td>\n",
       "      <td>42.3949</td>\n",
       "      <td>-7.053460</td>\n",
       "      <td>29.84670</td>\n",
       "      <td>29.27040</td>\n",
       "    </tr>\n",
       "    <tr>\n",
       "      <th>4996</th>\n",
       "      <td>121.1480</td>\n",
       "      <td>5.38125</td>\n",
       "      <td>28.13580</td>\n",
       "      <td>117.71300</td>\n",
       "      <td>86.4572</td>\n",
       "      <td>-39.344300</td>\n",
       "      <td>-41.37360</td>\n",
       "      <td>64.92370</td>\n",
       "    </tr>\n",
       "    <tr>\n",
       "      <th>4997</th>\n",
       "      <td>117.5790</td>\n",
       "      <td>27.61870</td>\n",
       "      <td>19.04060</td>\n",
       "      <td>-112.69200</td>\n",
       "      <td>82.3255</td>\n",
       "      <td>-42.871400</td>\n",
       "      <td>-11.67050</td>\n",
       "      <td>-69.30600</td>\n",
       "    </tr>\n",
       "    <tr>\n",
       "      <th>4998</th>\n",
       "      <td>44.1789</td>\n",
       "      <td>24.38130</td>\n",
       "      <td>27.59450</td>\n",
       "      <td>-24.41040</td>\n",
       "      <td>53.3907</td>\n",
       "      <td>-25.964600</td>\n",
       "      <td>-34.31950</td>\n",
       "      <td>31.60030</td>\n",
       "    </tr>\n",
       "    <tr>\n",
       "      <th>4999</th>\n",
       "      <td>41.9914</td>\n",
       "      <td>7.67305</td>\n",
       "      <td>-41.16490</td>\n",
       "      <td>-3.13890</td>\n",
       "      <td>43.8075</td>\n",
       "      <td>-6.646450</td>\n",
       "      <td>42.21010</td>\n",
       "      <td>-9.65548</td>\n",
       "    </tr>\n",
       "  </tbody>\n",
       "</table>\n",
       "<p>5000 rows × 8 columns</p>\n",
       "</div>"
      ],
      "text/plain": [
       "          ele_E    ele_Px    ele_Py     ele_Pz     pos_E     pos_Px    pos_Py  \\\n",
       "Event                                                                           \n",
       "0       91.9627 -21.25940 -22.43340   86.61360   36.5255   8.271760  34.09940   \n",
       "1      267.2110  12.88650  60.50000  259.95300  122.3730   0.865726 -30.62440   \n",
       "2       79.8513   6.82322  49.40190   62.36290   38.8658   3.582750 -35.40890   \n",
       "3       77.8501 -23.16490  16.15560   72.54670   30.2295  26.264700   1.33405   \n",
       "4       28.4838  27.16970  -4.02682   -7.54432  143.2160 -26.110400   6.29678   \n",
       "...         ...       ...       ...        ...       ...        ...       ...   \n",
       "4995    97.4048   3.59432 -63.09500   74.12020   42.3949  -7.053460  29.84670   \n",
       "4996   121.1480   5.38125  28.13580  117.71300   86.4572 -39.344300 -41.37360   \n",
       "4997   117.5790  27.61870  19.04060 -112.69200   82.3255 -42.871400 -11.67050   \n",
       "4998    44.1789  24.38130  27.59450  -24.41040   53.3907 -25.964600 -34.31950   \n",
       "4999    41.9914   7.67305 -41.16490   -3.13890   43.8075  -6.646450  42.21010   \n",
       "\n",
       "          pos_Pz  \n",
       "Event             \n",
       "0       10.14530  \n",
       "1      118.47600  \n",
       "2       15.61820  \n",
       "3      -14.90660  \n",
       "4     -140.67500  \n",
       "...          ...  \n",
       "4995    29.27040  \n",
       "4996    64.92370  \n",
       "4997   -69.30600  \n",
       "4998    31.60030  \n",
       "4999    -9.65548  \n",
       "\n",
       "[5000 rows x 8 columns]"
      ]
     },
     "execution_count": 2,
     "metadata": {},
     "output_type": "execute_result"
    }
   ],
   "source": [
    "fig_num = 1\n",
    "filepath = 'datafile.csv'\n",
    "data = pd.read_csv(filepath, index_col=0)\n",
    "data = data/1000  # /1000 to convert values to GeV\n",
    "data"
   ]
  },
  {
   "cell_type": "markdown",
   "metadata": {},
   "source": [
    "## Mass of the mother particle"
   ]
  },
  {
   "cell_type": "markdown",
   "metadata": {},
   "source": [
    "Assuming that the mother particle $A$ decayed into the electron and positron only, the invariant mass is given by\n",
    "\n",
    "\\begin{equation}\n",
    " m_{A}^2c^2 = P_{\\mu}P^{\\mu} = (P_{e^-} + P_{e^+})_{\\mu}(P_{e^-} + P_{e^+})^{\\mu}.\n",
    "\\tag{1}\n",
    "\\end{equation}\n",
    "\n",
    "So,\n",
    "\n",
    "\\begin{equation}\n",
    " m_{A} = \\sqrt{(E_{e^-} + E_{e^+})^2 - (P_{e^-}^x + P_{e^+}^x)^2 - (P_{e^-}^y + P_{e^+}^y)^2 - (P_{e^-}^z + P_{e^+}^z)^2},\n",
    "\\tag{2}\n",
    "\\end{equation}\n",
    "\n",
    "in natural units."
   ]
  },
  {
   "cell_type": "code",
   "execution_count": 3,
   "metadata": {},
   "outputs": [],
   "source": [
    "data['mA'] = np.sqrt((data[' ele_E'] + data['  pos_E'])**2 - \n",
    "                     (data[' ele_Px'] + data[' pos_Px'])**2 - \n",
    "                     (data[' ele_Py'] + data[' pos_Py'])**2 - \n",
    "                     (data[' ele_Pz'] + data[' pos_Pz'])**2)"
   ]
  },
  {
   "cell_type": "code",
   "execution_count": 4,
   "metadata": {},
   "outputs": [
    {
     "data": {
      "image/png": "[encoded data removed]",
      "text/plain": [
       "<Figure size 432x288 with 1 Axes>"
      ]
     },
     "metadata": {
      "needs_background": "light"
     },
     "output_type": "display_data"
    },
    {
     "name": "stdout",
     "output_type": "stream",
     "text": [
      "Figure 1: Distribution of values for the reconstruced mass of the mother particle A.\n"
     ]
    }
   ],
   "source": [
    "plt.hist(data['mA'], range=(60, 120), bins=50)\n",
    "plt.xlabel('mA (GeV)')\n",
    "plt.ylabel('number of events')\n",
    "plt.show()\n",
    "print(f'Figure {fig_num}: Distribution of values for the ' \\\n",
    "      'reconstruced mass of the mother particle A.')\n",
    "fig_num += 1"
   ]
  },
  {
   "cell_type": "code",
   "execution_count": 5,
   "metadata": {},
   "outputs": [
    {
     "data": {
      "text/plain": [
       "91.6733333842235"
      ]
     },
     "execution_count": 5,
     "metadata": {},
     "output_type": "execute_result"
    }
   ],
   "source": [
    "data['mA'].mean()"
   ]
  },
  {
   "cell_type": "markdown",
   "metadata": {},
   "source": [
    "The distribution in figure 1 shows a well-defined peak around $90~\\text{GeV}$ with a FWHM of approximately $\\pm 5~\\text{GeV}$. This information, and the calculated mean of $91.67~\\text{GeV}$ strongly indicates that the mother particle is a $Z$ boson."
   ]
  },
  {
   "cell_type": "markdown",
   "metadata": {},
   "source": [
    "## Mother particle momentum"
   ]
  },
  {
   "cell_type": "markdown",
   "metadata": {},
   "source": [
    "Conservation of momentum implies \n",
    "\n",
    "\\begin{equation}\n",
    "P_A^{\\mu} = P_{e^-}^{\\mu} + P_{e^+}^{\\mu}.\n",
    "\\tag{3}\n",
    "\\end{equation}\n",
    "\n",
    "Using\n",
    "\n",
    "\\begin{equation}\n",
    " p^{\\mu}p_{\\mu} = \\frac{E^2}{c^2} - \\vec{p}^2 = m^2c^2 \n",
    "\\tag{4}\n",
    "\\end{equation}\n",
    "\n",
    "implies \n",
    "\n",
    "\\begin{equation}\n",
    " p_A = \\sqrt{ (E_{e^-} + E_{e^+})^2 - m_A^2}.\n",
    "\\tag{5}\n",
    "\\end{equation}"
   ]
  },
  {
   "cell_type": "code",
   "execution_count": 6,
   "metadata": {},
   "outputs": [],
   "source": [
    "data['P_A'] = np.sqrt((data[' ele_E'] + data['  pos_E'])**2 - data['mA']**2)"
   ]
  },
  {
   "cell_type": "code",
   "execution_count": 7,
   "metadata": {
    "scrolled": true
   },
   "outputs": [
    {
     "data": {
      "image/png": "[encoded data removed]",
      "text/plain": [
       "<Figure size 432x288 with 1 Axes>"
      ]
     },
     "metadata": {
      "needs_background": "light"
     },
     "output_type": "display_data"
    },
    {
     "name": "stdout",
     "output_type": "stream",
     "text": [
      "Figure 2: Distribution of the magnitude of the mother particle momentum.\n"
     ]
    }
   ],
   "source": [
    "plt.hist(data['P_A'], bins=50)\n",
    "plt.xlabel('P_A (GeV)')\n",
    "plt.ylabel('number of events')\n",
    "plt.xticks(np.arange(0, 1100, 100))\n",
    "plt.show()\n",
    "print(f'Figure {fig_num}: Distribution of the magnitude '\\\n",
    "      'of the mother particle momentum.')\n",
    "fig_num += 1"
   ]
  },
  {
   "cell_type": "markdown",
   "metadata": {},
   "source": [
    "Figure 2 shows the reconstructed mother particle momentum for each event. The results show a peak between $0~\\text{GeV}$ and $100~\\text{GeV}$, and the number of events with momentum greater than $100~\\text{GeV}$ decreases significantly. There are approximately 400 events with $ 0~\\text{GeV} \\leq P_A \\leq 20~\\text{GeV}$ but the lack of a sharp peak at $0~\\text{GeV}$ suggests that, in general, the mother particle is not produced at rest in the detector."
   ]
  },
  {
   "cell_type": "markdown",
   "metadata": {},
   "source": [
    "## Electron energy distribution"
   ]
  },
  {
   "cell_type": "code",
   "execution_count": 8,
   "metadata": {},
   "outputs": [
    {
     "data": {
      "image/png": "[encoded data removed]",
      "text/plain": [
       "<Figure size 432x288 with 1 Axes>"
      ]
     },
     "metadata": {
      "needs_background": "light"
     },
     "output_type": "display_data"
    },
    {
     "name": "stdout",
     "output_type": "stream",
     "text": [
      "Figure 3: Distribution of electron energy.\n"
     ]
    }
   ],
   "source": [
    "plt.hist(data[' ele_E'], range=(0,500), bins=50)\n",
    "plt.xlabel('electron energy (GeV)')\n",
    "plt.ylabel('number of events')\n",
    "plt.xticks(np.arange(0, 550, 50))\n",
    "plt.show()\n",
    "print(f'Figure {fig_num}: Distribution of electron energy.')\n",
    "fig_num += 1"
   ]
  },
  {
   "cell_type": "markdown",
   "metadata": {},
   "source": [
    "Figure 3 shows the distribution of electron energy for the 5000 $pp$ collisions. The results show a peak around $50~\\text{GeV}$ and a rapidly decreasing number of events with energy greater than approximately $70~\\text{GeV}$."
   ]
  },
  {
   "cell_type": "markdown",
   "metadata": {},
   "source": [
    "If $A$ were at rest,\n",
    "\n",
    "\\begin{equation*}\n",
    "E_A^2 = m_{A}^2 + P_A^2 \\rightarrow m_A^2.\n",
    "\\label{eq:6}\n",
    "\\tag{6}\n",
    "\\end{equation*}\n",
    "\n",
    "Using  \n",
    "\n",
    "\\begin{equation}\n",
    "\\vec{P}_A =  \\vec{P}_{e^-} + \\vec{P}_{e^+} = 0\n",
    "\\tag{7}\n",
    "\\end{equation}\n",
    "\n",
    "and that $e^{+/-}$ have the same mass, it would be expected that\n",
    "\n",
    "\\begin{equation}\n",
    "E_{e^{+/-}} = \\frac{m_A}{2} \\approx 45~ \\text{GeV}.\n",
    "\\tag{8}\n",
    "\\end{equation}\n",
    "\n",
    "It is thought that the distrubtion in figure 3 is different for two reasons. Firstly, the mother particle does not always decay at rest, as shown by the results in figure 2. Therefore, the simplification in Eq. $\\eqref{eq:6}$ is not valid."
   ]
  },
  {
   "cell_type": "code",
   "execution_count": 9,
   "metadata": {},
   "outputs": [
    {
     "data": {
      "image/png": "[encoded data removed]",
      "text/plain": [
       "<Figure size 432x288 with 1 Axes>"
      ]
     },
     "metadata": {
      "needs_background": "light"
     },
     "output_type": "display_data"
    },
    {
     "name": "stdout",
     "output_type": "stream",
     "text": [
      "Figure 4: Electron positron energy difference for each event.\n"
     ]
    }
   ],
   "source": [
    "plt.hist(data[' ele_E']-data['  pos_E'], bins=50)\n",
    "plt.xlabel('electron energy - positron energy (GeV)')\n",
    "plt.ylabel('number of evetns')\n",
    "plt.show()\n",
    "print(f'Figure {fig_num}: Electron positron energy difference for each event.')\n",
    "fig_num += 1"
   ]
  },
  {
   "cell_type": "markdown",
   "metadata": {},
   "source": [
    "And secondly, the energy is not always split equally between the postitron and the electron, as shown by figure 4."
   ]
  },
  {
   "cell_type": "markdown",
   "metadata": {},
   "source": [
    "## Conclusion  \n",
    "\n",
    "The results from 5000 $pp$ collisions have been analysed and it has been found that a $Z$ boson is produced, which subsequently decays into an $e^-e^+$ pair. The $Z$ boson does not always decay at rest and the total energy is not always split equally between the electron and the positron."
   ]
  }
 ],
 "metadata": {
  "kernelspec": {
   "display_name": "Python 3",
   "language": "python",
   "name": "python3"
  },
  "language_info": {
   "codemirror_mode": {
    "name": "ipython",
    "version": 3
   },
   "file_extension": ".py",
   "mimetype": "text/x-python",
   "name": "python",
   "nbconvert_exporter": "python",
   "pygments_lexer": "ipython3",
   "version": "3.7.6"
  }
 },
 "nbformat": 4,
 "nbformat_minor": 4
}
